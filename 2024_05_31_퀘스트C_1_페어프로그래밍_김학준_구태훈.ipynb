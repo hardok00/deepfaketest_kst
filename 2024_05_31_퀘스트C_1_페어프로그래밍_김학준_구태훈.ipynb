{
  "nbformat": 4,
  "nbformat_minor": 0,
  "metadata": {
    "colab": {
      "provenance": [],
      "authorship_tag": "ABX9TyNxSk5ECLQIvRP02Thya8UW",
      "include_colab_link": true
    },
    "kernelspec": {
      "name": "python3",
      "display_name": "Python 3"
    },
    "language_info": {
      "name": "python"
    }
  },
  "cells": [
    {
      "cell_type": "markdown",
      "metadata": {
        "id": "view-in-github",
        "colab_type": "text"
      },
      "source": [
        "<a href=\"https://colab.research.google.com/github/hardok00/deepfaketest_kst/blob/main/2024_05_31_%ED%80%98%EC%8A%A4%ED%8A%B8C_1_%ED%8E%98%EC%96%B4%ED%94%84%EB%A1%9C%EA%B7%B8%EB%9E%98%EB%B0%8D_%EA%B9%80%ED%95%99%EC%A4%80_%EA%B5%AC%ED%83%9C%ED%9B%88.ipynb\" target=\"_parent\"><img src=\"https://colab.research.google.com/assets/colab-badge.svg\" alt=\"Open In Colab\"/></a>"
      ]
    },
    {
      "cell_type": "code",
      "execution_count": null,
      "metadata": {
        "id": "blApk74XMQoV"
      },
      "outputs": [],
      "source": []
    }
  ]
}